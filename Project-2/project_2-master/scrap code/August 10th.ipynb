{
 "cells": [
  {
   "cell_type": "code",
   "execution_count": 1,
   "metadata": {},
   "outputs": [],
   "source": [
    "import pandas as pd\n",
    "import numpy as np\n",
    "import matplotlib.pyplot as plt\n",
    "# import seaborn as sns\n",
    "# import os\n",
    "from sklearn.linear_model import LinearRegression\n",
    "import sklearn as skl\n",
    "from sklearn import metrics\n",
    "from sklearn.model_selection import train_test_split\n",
    "# import statsmodels.api as sm\n",
    "# from scipy import stats\n",
    "pd.set_option('max_columns', None)\n",
    "# pd.set_option('max_rows', None)"
   ]
  },
  {
   "cell_type": "code",
   "execution_count": 2,
   "metadata": {},
   "outputs": [],
   "source": [
    "train_df = pd.read_csv('./datasets/train.csv')"
   ]
  },
  {
   "cell_type": "code",
   "execution_count": null,
   "metadata": {},
   "outputs": [],
   "source": [
    "train_df.head(1)"
   ]
  },
  {
   "cell_type": "code",
   "execution_count": null,
   "metadata": {},
   "outputs": [],
   "source": [
    "# Looking for missing values\n",
    "train_df.isnull().sum()"
   ]
  },
  {
   "cell_type": "code",
   "execution_count": 3,
   "metadata": {},
   "outputs": [],
   "source": [
    "#function to return unique values for columns, not including columns with more than 100 unique values (ie discrete and continuous)\n",
    "def columns_values(dataframe):\n",
    "    for n in dataframe.columns:\n",
    "        column = n\n",
    "    #     print(column)\n",
    "        value_counts = (dataframe[column].value_counts())\n",
    "        unique_values = (dataframe[column].unique())\n",
    "        len_counts = len(value_counts)\n",
    "        len_unique = len(unique_values)\n",
    "        if (len(value_counts)< 100):\n",
    "#             if 'np.nan' in unique_values:\n",
    "#             if len_counts != len(value_counts):\n",
    "                print(f\"{column} has length of {len_unique}\")\n",
    "#                 print(len(unique_values))\n",
    "                print(unique_values)\n",
    "                print(\"=\"*30)\n",
    "                print(f\"{column} has length of {len_counts}\")\n",
    "#                 print(len(value_counts))\n",
    "                print(value_counts)\n",
    "                print(\"=\"*60)"
   ]
  },
  {
   "cell_type": "code",
   "execution_count": null,
   "metadata": {},
   "outputs": [],
   "source": [
    "#running the function to view unique values\n",
    "columns_values(train_df)"
   ]
  },
  {
   "cell_type": "code",
   "execution_count": 4,
   "metadata": {},
   "outputs": [],
   "source": [
    "#building dictionaries to replace values\n",
    "replace_values = {'Reg': 4, 'IR1': 3, 'IR2': 2, 'IR3': 1, \n",
    "     'AllPub': 4, 'NoSewr': 3, 'NoSeWa': 2, 'ELO': 1,\n",
    "     'Gtl': 3, 'Mod': 2, 'Sev': 1,\n",
    "     'Ex': 5, 'Gd': 4, 'TA': 3, 'Fa': 2, 'Po': 1,\n",
    "     'Gd': 4, 'Av': 3, 'Mn': 2, 'No':1,\n",
    "     'GLQ': 6, 'ALQ': 5, 'BLQ': 4, 'Rec': 3, 'LwQ': 2, 'Unf': 1,\n",
    "     'N': 0, 'Y': 1,\n",
    "     'SBrkr': 5, 'FuseA': 4, 'FuseF': 3, 'FuseP': 2, 'Mix': 1,\n",
    "     'Typ': 8, 'Min1': 7, 'Min2': 6, 'Mod': 5, 'Maj1': 4, 'Maj2': 3, 'Sev': 2, 'Sal': 1,\n",
    "     'Fin': 3, 'RFn': 2, 'Unf': 1,\n",
    "     'Y': 3, 'P': 2, 'N': 1,\n",
    "     'GdPrv': 4, 'MnPrv': 3, 'GdWo': 2, 'MnWw': 1, 'NA' : 0\n",
    "     }\n",
    "# train_df = train_df.replace(replace_values)\n",
    "replace_values_na = {np.nan: \"NA\"}\n",
    "replace_values_nan = {np.nan: 0}"
   ]
  },
  {
   "cell_type": "code",
   "execution_count": 5,
   "metadata": {},
   "outputs": [],
   "source": [
    "# using the dictionaries to replace values\n",
    "train_df['Bsmt Qual'] = train_df['Bsmt Qual'].replace(replace_values_nan)\n",
    "train_df['Bsmt Cond'] = train_df['Bsmt Cond'].replace(replace_values_nan)\n",
    "train_df['Bsmt Exposure'] = train_df['Bsmt Exposure'].replace(replace_values_nan)\n",
    "train_df['BsmtFin Type 1'] = train_df['BsmtFin Type 1'].replace(replace_values_nan)\n",
    "train_df['BsmtFin Type 2'] = train_df['BsmtFin Type 2'].replace(replace_values_nan)\n",
    "train_df['Bsmt Full Bath'] = train_df['Bsmt Full Bath'].replace(replace_values_nan)\n",
    "train_df['Bsmt Half Bath'] = train_df['Bsmt Half Bath'].replace(replace_values_nan)\n",
    "train_df['Fireplace Qu'] = train_df['Fireplace Qu'].replace(replace_values_nan)\n",
    "train_df['Garage Finish'] = train_df['Garage Finish'].replace(replace_values_nan)\n",
    "train_df['Garage Qual'] = train_df['Garage Qual'].replace(replace_values_nan)\n",
    "train_df['Garage Cond'] = train_df['Garage Cond'].replace(replace_values_nan)\n",
    "train_df['Fireplace Qu'] = train_df['Fireplace Qu'].replace(replace_values_nan)\n",
    "train_df['Garage Cars'] = train_df['Garage Cars'].replace(replace_values_nan)\n",
    "train_df['Garage Area'] = train_df['Garage Area'].replace(replace_values_nan)\n",
    "train_df['Pool QC'] = train_df['Pool QC'].replace(replace_values_nan)\n",
    "train_df['Fence'] = train_df['Fence'].replace(replace_values_nan)\n",
    "train_df['Lot Frontage'] = train_df['Lot Frontage'].replace(replace_values_nan)\n",
    "train_df['Alley'] = train_df['Alley'].replace(replace_values_na)\n",
    "train_df['Mas Vnr Type'] = train_df['Mas Vnr Type'].replace(replace_values_na)\n",
    "train_df['Mas Vnr Area'] = train_df['Mas Vnr Area'].replace(replace_values_nan)\n",
    "train_df['Mas Vnr Area'] = train_df['Mas Vnr Area'].replace(replace_values_nan)\n",
    "train_df['BsmtFin SF 1'] = train_df['BsmtFin SF 1'].replace(replace_values_nan)\n",
    "train_df['BsmtFin SF 2'] = train_df['BsmtFin SF 2'].replace(replace_values_nan)\n",
    "train_df['Bsmt Unf SF'] = train_df['Bsmt Unf SF'].replace(replace_values_nan)\n",
    "train_df['Total Bsmt SF'] = train_df['Total Bsmt SF'].replace(replace_values_nan)\n",
    "train_df['Garage Type'] = train_df['Garage Type'].replace(replace_values_na)\n",
    "train_df['Garage Yr Blt'] = train_df['Garage Yr Blt'].replace({np.nan: 1980})\n",
    "train_df['Misc Feature'] = train_df['Misc Feature'].replace(replace_values_na)\n",
    "train_df = train_df.replace(replace_values)"
   ]
  },
  {
   "cell_type": "code",
   "execution_count": null,
   "metadata": {},
   "outputs": [],
   "source": [
    "#running function to review unique values again\n",
    "columns_values(train_df)"
   ]
  },
  {
   "cell_type": "code",
   "execution_count": null,
   "metadata": {},
   "outputs": [],
   "source": [
    "# checking to make sure that missing values are corrected\n",
    "train_df.isnull().sum()"
   ]
  },
  {
   "cell_type": "code",
   "execution_count": null,
   "metadata": {},
   "outputs": [],
   "source": [
    "train_df.describe()"
   ]
  },
  {
   "cell_type": "code",
   "execution_count": 6,
   "metadata": {},
   "outputs": [
    {
     "data": {
      "text/plain": [
       "(2051, 81)"
      ]
     },
     "execution_count": 6,
     "metadata": {},
     "output_type": "execute_result"
    }
   ],
   "source": [
    "train_df.shape"
   ]
  },
  {
   "cell_type": "code",
   "execution_count": 7,
   "metadata": {},
   "outputs": [
    {
     "data": {
      "text/plain": [
       "Id              False\n",
       "PID             False\n",
       "MS SubClass     False\n",
       "Lot Frontage    False\n",
       "Lot Area        False\n",
       "                ...  \n",
       "Fence           False\n",
       "Misc Val        False\n",
       "Mo Sold         False\n",
       "Yr Sold         False\n",
       "SalePrice        True\n",
       "Name: SalePrice, Length: 61, dtype: bool"
      ]
     },
     "execution_count": 7,
     "metadata": {},
     "output_type": "execute_result"
    }
   ],
   "source": [
    "# setting up my correlation check for saleprice\n",
    "corr = train_df.corr()\n",
    "saleprice_corr = corr['SalePrice']\n",
    "saleprice_corr > .5"
   ]
  },
  {
   "cell_type": "code",
   "execution_count": 8,
   "metadata": {},
   "outputs": [],
   "source": [
    "drop_features = []\n",
    "features = []\n",
    "for index, column in saleprice_corr.items():\n",
    "    if column < .5:\n",
    "        drop_features.append(index)\n",
    "    else:\n",
    "        features.append(index)"
   ]
  },
  {
   "cell_type": "code",
   "execution_count": 11,
   "metadata": {},
   "outputs": [
    {
     "data": {
      "text/plain": [
       "43"
      ]
     },
     "execution_count": 11,
     "metadata": {},
     "output_type": "execute_result"
    }
   ],
   "source": [
    "len(drop_features)"
   ]
  },
  {
   "cell_type": "code",
   "execution_count": 9,
   "metadata": {},
   "outputs": [],
   "source": [
    "for column in train_df.columns:\n",
    "    if column in drop_features:\n",
    "        train_df.drop([column], axis=1, inplace=True)"
   ]
  },
  {
   "cell_type": "code",
   "execution_count": 10,
   "metadata": {},
   "outputs": [
    {
     "data": {
      "text/plain": [
       "(2051, 38)"
      ]
     },
     "execution_count": 10,
     "metadata": {},
     "output_type": "execute_result"
    }
   ],
   "source": [
    "train_df.shape"
   ]
  },
  {
   "cell_type": "code",
   "execution_count": null,
   "metadata": {},
   "outputs": [],
   "source": [
    "train_df.dtypes"
   ]
  },
  {
   "cell_type": "code",
   "execution_count": null,
   "metadata": {},
   "outputs": [],
   "source": [
    "for column in train_df:\n",
    "    print(column)"
   ]
  },
  {
   "cell_type": "code",
   "execution_count": null,
   "metadata": {},
   "outputs": [],
   "source": [
    "def create_plots(dataframe, column1):\n",
    "    for column in dataframe:\n",
    "        try:\n",
    "            fig, ax = plt.subplots(figsize=(10,6))\n",
    "            plt.scatter(train_df[column1], train_df[column])\n",
    "            plt.title(column, fontsize=25)\n",
    "            plt.xlabel(column1)\n",
    "            plt.ylabel(column)\n",
    "            plt.show();\n",
    "        except:\n",
    "            continue"
   ]
  },
  {
   "cell_type": "code",
   "execution_count": null,
   "metadata": {},
   "outputs": [],
   "source": [
    "def create_plot(dataframe, column1, column2):\n",
    "    fig, ax = plt.subplots(figsize=(10,6))\n",
    "    plt.scatter(train_df[column1], train_df[column2])\n",
    "    plt.title(column2, fontsize=25)\n",
    "    plt.xlabel(column1)\n",
    "    plt.ylabel(column2)\n",
    "    plt.show();"
   ]
  },
  {
   "cell_type": "code",
   "execution_count": null,
   "metadata": {},
   "outputs": [],
   "source": [
    "train_df.dtypes"
   ]
  },
  {
   "cell_type": "code",
   "execution_count": null,
   "metadata": {},
   "outputs": [],
   "source": [
    "# create_plots(train_df, 'SalePrice')"
   ]
  },
  {
   "cell_type": "code",
   "execution_count": null,
   "metadata": {},
   "outputs": [],
   "source": [
    "train_df = train_df[(train_df['Gr Liv Area'] < 4000)]"
   ]
  },
  {
   "cell_type": "code",
   "execution_count": null,
   "metadata": {},
   "outputs": [],
   "source": [
    "train_df.corr()['SalePrice']"
   ]
  },
  {
   "cell_type": "code",
   "execution_count": null,
   "metadata": {},
   "outputs": [],
   "source": [
    "train_df['Exter Qual and Gr Liv Area'] = train_df['Exter Qual'] * train_df['Gr Liv Area']"
   ]
  },
  {
   "cell_type": "code",
   "execution_count": null,
   "metadata": {},
   "outputs": [],
   "source": [
    "train_df.corr()['SalePrice']"
   ]
  },
  {
   "cell_type": "code",
   "execution_count": null,
   "metadata": {},
   "outputs": [],
   "source": [
    "train_df.shape"
   ]
  },
  {
   "cell_type": "code",
   "execution_count": null,
   "metadata": {},
   "outputs": [],
   "source": [
    "# features = = ['Overall Qual', 'Year Built', 'Mas Vnr Area', 'Exter Qual', 'Total Bsmt SF', '1st Flr SF', 'Gr Liv Area', 'TotRms AbvGrd', 'Fireplace Qu', 'Garage Area', 'Exter Qual and Gr Liv Area']\n",
    "# X = train_df[features]\n",
    "# y = train_df['SalePrice']"
   ]
  },
  {
   "cell_type": "code",
   "execution_count": null,
   "metadata": {},
   "outputs": [],
   "source": [
    "train_df.head(1)"
   ]
  },
  {
   "cell_type": "code",
   "execution_count": null,
   "metadata": {},
   "outputs": [],
   "source": [
    "features = train_df.drop(['SalePrice', 'MS Zoning', 'Street', 'Alley', 'Land Contour', 'Lot Config', 'Neighborhood', 'Condition 1',\n",
    "                         'Condition 2', 'Bldg Type', 'House Style', 'Roof Style', 'Roof Matl', 'Exterior 1st', 'Exterior 2nd',\n",
    "                         'Mas Vnr Type', 'Foundation', 'Heating', 'Garage Type', 'Misc Feature', 'Sale Type',], axis=1)"
   ]
  },
  {
   "cell_type": "code",
   "execution_count": null,
   "metadata": {},
   "outputs": [],
   "source": [
    "len(features)"
   ]
  },
  {
   "cell_type": "code",
   "execution_count": null,
   "metadata": {},
   "outputs": [],
   "source": [
    "X = features\n",
    "y = train_df['SalePrice']"
   ]
  },
  {
   "cell_type": "code",
   "execution_count": null,
   "metadata": {},
   "outputs": [],
   "source": [
    "X.shape"
   ]
  },
  {
   "cell_type": "code",
   "execution_count": null,
   "metadata": {},
   "outputs": [],
   "source": [
    "y.shape"
   ]
  },
  {
   "cell_type": "code",
   "execution_count": null,
   "metadata": {},
   "outputs": [],
   "source": [
    "X_train, X_test, y_train, y_test = train_test_split(X, y, random_state=42,)\n",
    "lr = LinearRegression()\n",
    "lr.fit(X_train, y_train)\n",
    "lr.intercept_\n",
    "lr.coef_\n",
    "y_preds = lr.predict(X)\n",
    "resids = y - y_preds\n",
    "print(lr.score(X_train, y_train))\n",
    "print(lr.score(X_test, y_test))"
   ]
  },
  {
   "cell_type": "code",
   "execution_count": null,
   "metadata": {},
   "outputs": [],
   "source": [
    "def return_reg_metrics(X, y, k):\n",
    "    lr = LinearRegression()\n",
    "    lr.fit(X_train, y_train)\n",
    "    lr.coef_\n",
    "    lr.intercept_\n",
    "    preds = lr.predict(X)\n",
    "    resids = y - preds\n",
    "    sse = (resids**2).sum()\n",
    "    null_pred = y.mean()\n",
    "    null_resids = y - null_pred\n",
    "    null_sse = (null_resids**2).sum()  \n",
    "    print(\"The SSE = \" + str((resids**2).sum()))\n",
    "    print(\"The MSE = \" + str(metrics.mean_squared_error(y, preds)))\n",
    "    print(\"The RMSE = \" + str((metrics.mean_squared_error(y, preds, squared=False))))\n",
    "    print(\"The R2 = \" + str((metrics.r2_score(y, preds))))\n",
    "    n = len(X)\n",
    "    r2 = 1 - (sse/null_sse)\n",
    "    r2adj_top = ((1 - r2)*(n - 1))\n",
    "    r2adj_bot = (n - k - 1)\n",
    "    r2adj = 1- (r2adj_top / r2adj_bot)\n",
    "    print(\"The R2ADJ = \" + str((r2adj)))"
   ]
  },
  {
   "cell_type": "code",
   "execution_count": null,
   "metadata": {},
   "outputs": [],
   "source": [
    "return_reg_metrics(X, y, 38)"
   ]
  },
  {
   "cell_type": "code",
   "execution_count": null,
   "metadata": {},
   "outputs": [],
   "source": [
    "'Garage Cars', 'Mas Vnr Area', 'Bsmt Qual', '1st Flr SF', 'Full Bath', 'Kitchen Qual', 'Fireplace Qu', 'Garage Finish', 'Garage Cars',"
   ]
  },
  {
   "cell_type": "code",
   "execution_count": null,
   "metadata": {},
   "outputs": [],
   "source": [
    "lr.coef_"
   ]
  },
  {
   "cell_type": "code",
   "execution_count": null,
   "metadata": {},
   "outputs": [],
   "source": []
  }
 ],
 "metadata": {
  "kernelspec": {
   "display_name": "Python 3",
   "language": "python",
   "name": "python3"
  },
  "language_info": {
   "codemirror_mode": {
    "name": "ipython",
    "version": 3
   },
   "file_extension": ".py",
   "mimetype": "text/x-python",
   "name": "python",
   "nbconvert_exporter": "python",
   "pygments_lexer": "ipython3",
   "version": "3.7.6"
  }
 },
 "nbformat": 4,
 "nbformat_minor": 4
}
