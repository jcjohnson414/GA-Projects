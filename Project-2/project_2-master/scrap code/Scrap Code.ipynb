{
 "cells": [
  {
   "cell_type": "code",
   "execution_count": 1,
   "metadata": {},
   "outputs": [],
   "source": [
    "### THIS FUNCTION CAN BE USED TO ELIMINATE COLUMNS WITH LOW COORELATION IN CONJUNCTION WITH THE FUNCTION BELOW\n",
    "# def pull_columns(dataframe):\n",
    "#     drop_features = []\n",
    "#     features = []\n",
    "# #     if dataframe is train_df:\n",
    "#     corr = dataframe.corr()\n",
    "#     saleprice_corr = corr['SalePrice']\n",
    "# #     ## CREATE MY FILTERED DATAFRAME ##\n",
    "# #         drop_features = []\n",
    "# #         features = []\n",
    "#     for index, column in saleprice_corr.items():\n",
    "#         if column == 'Id':\n",
    "#             features.append(index)\n",
    "#         elif column < .5:\n",
    "#             drop_features.append(index)\n",
    "            \n",
    "#         else:\n",
    "#             features.append(index)\n",
    "#     return drop_features"
   ]
  },
  {
   "cell_type": "code",
   "execution_count": null,
   "metadata": {},
   "outputs": [],
   "source": [
    "### THIS FUNCTION CAN BE USED TO ELIMINATE COLUMNS WITH LOW COORELATION IN CONJUNCTION WITH THE FUNCTION ABOVE\n",
    "\n",
    "# def shrink_dataframe(dataframe, inplace=True):\n",
    "#     for column in dataframe.columns[1:]:\n",
    "#         if column in drop_features:\n",
    "#             dataframe.drop(column, axis=1, inplace=True)\n",
    "# #     elif dataframe is test_df:\n",
    "# #         for column in test.columns:\n",
    "# #             if column in drop_features:\n",
    "# #                 dataframe.drop(column, axis=1, inplace=True)\n",
    "#     return dataframe"
   ]
  }
 ],
 "metadata": {
  "kernelspec": {
   "display_name": "Python 3",
   "language": "python",
   "name": "python3"
  },
  "language_info": {
   "codemirror_mode": {
    "name": "ipython",
    "version": 3
   },
   "file_extension": ".py",
   "mimetype": "text/x-python",
   "name": "python",
   "nbconvert_exporter": "python",
   "pygments_lexer": "ipython3",
   "version": "3.7.6"
  }
 },
 "nbformat": 4,
 "nbformat_minor": 4
}
