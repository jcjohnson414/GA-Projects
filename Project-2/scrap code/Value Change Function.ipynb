{
 "cells": [
  {
   "cell_type": "code",
   "execution_count": null,
   "metadata": {},
   "outputs": [],
   "source": [
    "def replace_replace_values(dataframe):\n",
    "    for n in dataframe.columns:\n",
    "#         print(n)\n",
    "        dataframe['Bsmt Qual'] = dataframe['Bsmt Qual'].replace(replace_values_nan)\n",
    "        dataframe['Bsmt Cond'] = dataframe['Bsmt Cond'].replace(replace_values_nan)\n",
    "        dataframe['Bsmt Exposure'] = dataframe['Bsmt Exposure'].replace(replace_values_nan)\n",
    "        dataframe['BsmtFin Type 1'] = dataframe['BsmtFin Type 1'].replace(replace_values_nan)\n",
    "        dataframe['BsmtFin Type 2'] = dataframe['BsmtFin Type 2'].replace(replace_values_nan)\n",
    "        dataframe['Bsmt Full Bath'] = dataframe['Bsmt Full Bath'].replace(replace_values_nan)\n",
    "        dataframe['Bsmt Half Bath'] = dataframe['Bsmt Half Bath'].replace(replace_values_nan)\n",
    "        dataframe['Fireplace Qu'] = dataframe['Fireplace Qu'].replace(replace_values_nan)\n",
    "        dataframe['Garage Finish'] = dataframe['Garage Finish'].replace(replace_values_nan)\n",
    "        dataframe['Garage Qual'] = dataframe['Garage Qual'].replace(replace_values_nan)\n",
    "        dataframe['Garage Cond'] = dataframe['Garage Cond'].replace(replace_values_nan)\n",
    "        dataframe['Fireplace Qu'] = dataframe['Fireplace Qu'].replace(replace_values_nan)\n",
    "        dataframe['Garage Cars'] = dataframe['Garage Cars'].replace(replace_values_nan)\n",
    "        dataframe['Garage Area'] = dataframe['Garage Area'].replace(replace_values_nan)\n",
    "        dataframe['Pool QC'] = dataframe['Pool QC'].replace(replace_values_nan)\n",
    "        dataframe['Fence'] = dataframe['Fence'].replace(replace_values_nan)\n",
    "        dataframe['Lot Frontage'] = dataframe['Lot Frontage'].replace(replace_values_nan)\n",
    "        dataframe['Alley'] = dataframe['Alley'].replace(replace_values_na)\n",
    "        dataframe['Mas Vnr Type'] = dataframe['Mas Vnr Type'].replace(replace_values_na)\n",
    "        dataframe['Mas Vnr Area'] = dataframe['Mas Vnr Area'].replace(replace_values_nan)\n",
    "        dataframe['Mas Vnr Area'] = dataframe['Mas Vnr Area'].replace(replace_values_nan)\n",
    "        dataframe['BsmtFin SF 1'] = dataframe['BsmtFin SF 1'].replace(replace_values_nan)\n",
    "        dataframe['BsmtFin SF 2'] = dataframe['BsmtFin SF 2'].replace(replace_values_nan)\n",
    "        dataframe['Bsmt Unf SF'] = dataframe['Bsmt Unf SF'].replace(replace_values_nan)\n",
    "        dataframe['Total Bsmt SF'] = dataframe['Total Bsmt SF'].replace(replace_values_nan)\n",
    "        dataframe['Garage Type'] = dataframe['Garage Type'].replace(replace_values_na)\n",
    "        dataframe['Garage Yr Blt'] = dataframe['Garage Yr Blt'].replace({np.nan: 1980})\n",
    "        dataframe['Misc Feature'] = dataframe['Misc Feature'].replace(replace_values_na)\n",
    "        dataframe = dataframe.replace(replace_values)"
   ]
  }
 ],
 "metadata": {
  "kernelspec": {
   "display_name": "Python 3",
   "language": "python",
   "name": "python3"
  },
  "language_info": {
   "codemirror_mode": {
    "name": "ipython",
    "version": 3
   },
   "file_extension": ".py",
   "mimetype": "text/x-python",
   "name": "python",
   "nbconvert_exporter": "python",
   "pygments_lexer": "ipython3",
   "version": "3.7.6"
  }
 },
 "nbformat": 4,
 "nbformat_minor": 4
}
