{
 "cells": [
  {
   "cell_type": "code",
   "execution_count": null,
   "metadata": {},
   "outputs": [],
   "source": [
    "X_train, X_test, y_train, y_test = train_test_split(X, y, random_state=42)\n",
    "print(X_train.shape)\n",
    "print(X_test.shape)\n",
    "y_train_baseline = [y_train.mean()]*len(y_train)\n",
    "y_test_baseline  = [y_train.mean()]*len(y_test)\n",
    "print(f\"Baseline RMSE - Train: {mean_squared_error(y_train, y_train_baseline)**0.5}\")\n",
    "print(f\"Baseline RMSE - Test: {mean_squared_error(y_test, y_test_baseline)**0.5}\")\n",
    "lr = LinearRegression()\n",
    "lr.fit(X_train, y_train)\n",
    "print(f\"Train RMSE: {mean_squared_error(y_train, lr.predict(X_train))**0.5}\")\n",
    "print(f\"Test RMSE: {mean_squared_error(y_test, lr.predict(X_test))**0.5}\")\n",
    "lr.coef_\n",
    "coef_df= pd.DataFrame({\n",
    "    'column': X.columns,\n",
    "    'coef': lr.coef_\n",
    "})\n",
    "coef_df.sort_values(by = 'coef', ascending = False).head()\n",
    "X_kaggle = df_test_full.loc[:,features]\n",
    "X_kaggle.head()\n",
    "X_kaggle['SalePrice'] = lr.predict(X_kaggle)\n",
    "X_kaggle.head()\n",
    "output = X_kaggle[['SalePrice']]\n",
    "output.head()\n",
    "output.to_csv('./datasets/first_submission.csv')\n",
    "new_df = pd.read_csv('/datasets/first_submission.csv')\n",
    "new_df.head()"
   ]
  }
 ],
 "metadata": {
  "kernelspec": {
   "display_name": "Python 3",
   "language": "python",
   "name": "python3"
  },
  "language_info": {
   "codemirror_mode": {
    "name": "ipython",
    "version": 3
   },
   "file_extension": ".py",
   "mimetype": "text/x-python",
   "name": "python",
   "nbconvert_exporter": "python",
   "pygments_lexer": "ipython3",
   "version": "3.7.6"
  }
 },
 "nbformat": 4,
 "nbformat_minor": 4
}
