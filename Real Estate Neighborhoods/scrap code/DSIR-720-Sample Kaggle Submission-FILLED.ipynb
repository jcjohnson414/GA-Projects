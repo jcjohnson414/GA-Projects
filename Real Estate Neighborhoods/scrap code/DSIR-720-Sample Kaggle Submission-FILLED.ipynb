{
 "cells": [
  {
   "cell_type": "markdown",
   "metadata": {},
   "source": [
    "# Predicting Sale Prices for Ames Iowa Housing Dataset\n",
    "\n",
    "#### By: _Noah C. (DSI)_"
   ]
  },
  {
   "cell_type": "markdown",
   "metadata": {},
   "source": [
    "## Import Libraries & Load in Data"
   ]
  },
  {
   "cell_type": "code",
   "execution_count": null,
   "metadata": {
    "ExecuteTime": {
     "end_time": "2020-08-06T20:54:05.781500Z",
     "start_time": "2020-08-06T20:54:04.182544Z"
    }
   },
   "outputs": [],
   "source": [
    "import pandas as pd\n",
    "import numpy as np\n",
    "\n",
    "from sklearn.linear_model import LinearRegression\n",
    "from sklearn.model_selection import train_test_split\n",
    "from sklearn.metrics import mean_squared_error"
   ]
  },
  {
   "cell_type": "code",
   "execution_count": null,
   "metadata": {
    "ExecuteTime": {
     "end_time": "2020-08-06T20:54:14.305466Z",
     "start_time": "2020-08-06T20:54:14.206205Z"
    }
   },
   "outputs": [],
   "source": [
    "df_train = pd.read_csv(\"./datasets/train.csv\")\n",
    "df_test  = pd.read_csv(\"./datasets/test.csv\")"
   ]
  },
  {
   "cell_type": "code",
   "execution_count": null,
   "metadata": {
    "ExecuteTime": {
     "end_time": "2020-08-06T20:54:49.433463Z",
     "start_time": "2020-08-06T20:54:49.404540Z"
    }
   },
   "outputs": [],
   "source": [
    "df_train.shape"
   ]
  },
  {
   "cell_type": "code",
   "execution_count": null,
   "metadata": {
    "ExecuteTime": {
     "end_time": "2020-08-06T20:54:53.873544Z",
     "start_time": "2020-08-06T20:54:53.866562Z"
    }
   },
   "outputs": [],
   "source": [
    "df_test.shape"
   ]
  },
  {
   "cell_type": "code",
   "execution_count": null,
   "metadata": {
    "ExecuteTime": {
     "end_time": "2020-08-06T20:56:03.383033Z",
     "start_time": "2020-08-06T20:56:03.377048Z"
    }
   },
   "outputs": [],
   "source": [
    "## What column in train is not in test?\n",
    "set(df_train) - set(df_test)"
   ]
  },
  {
   "cell_type": "code",
   "execution_count": null,
   "metadata": {
    "ExecuteTime": {
     "end_time": "2020-08-06T20:56:26.643676Z",
     "start_time": "2020-08-06T20:56:26.567115Z"
    }
   },
   "outputs": [],
   "source": [
    "df_train.head()"
   ]
  },
  {
   "cell_type": "markdown",
   "metadata": {
    "ExecuteTime": {
     "end_time": "2020-01-03T17:44:16.415753Z",
     "start_time": "2020-01-03T17:44:16.409542Z"
    }
   },
   "source": [
    "## Data Cleaning"
   ]
  },
  {
   "cell_type": "markdown",
   "metadata": {},
   "source": [
    "**Set `Id` column to be our new index for both train and test datasets.**\n",
    "\n",
    "This will make submitting to Kaggle easier later on. It also lets us reference rows with the `Id` number when using `.loc`."
   ]
  },
  {
   "cell_type": "code",
   "execution_count": null,
   "metadata": {
    "ExecuteTime": {
     "end_time": "2020-08-06T20:58:05.403666Z",
     "start_time": "2020-08-06T20:58:05.394689Z"
    }
   },
   "outputs": [],
   "source": [
    "df_train.set_index('Id', inplace = True)\n",
    "df_test.set_index('Id', inplace = True)"
   ]
  },
  {
   "cell_type": "code",
   "execution_count": null,
   "metadata": {
    "ExecuteTime": {
     "end_time": "2020-08-06T20:58:16.229298Z",
     "start_time": "2020-08-06T20:58:16.185414Z"
    }
   },
   "outputs": [],
   "source": [
    "df_train.head()"
   ]
  },
  {
   "cell_type": "code",
   "execution_count": null,
   "metadata": {
    "ExecuteTime": {
     "end_time": "2020-01-06T18:00:08.865612Z",
     "start_time": "2020-01-06T18:00:08.817561Z"
    }
   },
   "outputs": [],
   "source": []
  },
  {
   "cell_type": "markdown",
   "metadata": {},
   "source": [
    "Check to see how many missing values are in each column."
   ]
  },
  {
   "cell_type": "code",
   "execution_count": null,
   "metadata": {
    "ExecuteTime": {
     "end_time": "2020-08-06T20:58:59.025066Z",
     "start_time": "2020-08-06T20:58:58.994156Z"
    }
   },
   "outputs": [],
   "source": [
    "df_train.isnull().sum().sort_values(ascending = False)"
   ]
  },
  {
   "cell_type": "code",
   "execution_count": null,
   "metadata": {
    "ExecuteTime": {
     "end_time": "2020-08-06T21:01:15.473634Z",
     "start_time": "2020-08-06T21:01:15.429723Z"
    }
   },
   "outputs": [],
   "source": [
    "### EXAMPLE ONLY - DO NOT DO THIS IN YOUR OWN PROJECT!\n",
    "### Lazy workflow - I'm going to fill all NAs with 0 (again, do not do this)\n",
    "\n",
    "df_train.fillna(0, inplace = True)\n",
    "df_test.fillna(0, inplace = True)"
   ]
  },
  {
   "cell_type": "code",
   "execution_count": null,
   "metadata": {
    "ExecuteTime": {
     "end_time": "2020-08-06T21:02:15.615614Z",
     "start_time": "2020-08-06T21:02:15.539821Z"
    }
   },
   "outputs": [],
   "source": [
    "df_train.info()"
   ]
  },
  {
   "cell_type": "markdown",
   "metadata": {},
   "source": [
    "## EDA (Exploratory Data Analysis)\n",
    "I'm going to skip this step right now, but you should not do so in your project.\n",
    "\n",
    "Things that go here:\n",
    "- descriptive statistics\n",
    "- visualizations\n",
    "- visualizations\n",
    "- visualizations\n",
    "- interpretations of descriptive statistics and visualizations"
   ]
  },
  {
   "cell_type": "markdown",
   "metadata": {},
   "source": [
    "## Feature Engineering"
   ]
  },
  {
   "cell_type": "code",
   "execution_count": null,
   "metadata": {
    "ExecuteTime": {
     "end_time": "2020-08-06T21:05:44.393185Z",
     "start_time": "2020-08-06T21:05:44.381224Z"
    }
   },
   "outputs": [],
   "source": [
    "## one-hot encode the values in the Neighborhood column for both the training and testing datasets\n",
    "train_dummies = pd.get_dummies(df_train['Neighborhood'])\n",
    "test_dummies  = pd.get_dummies(df_test['Neighborhood'])"
   ]
  },
  {
   "cell_type": "code",
   "execution_count": null,
   "metadata": {
    "ExecuteTime": {
     "end_time": "2020-08-06T21:07:59.199206Z",
     "start_time": "2020-08-06T21:07:59.190228Z"
    }
   },
   "outputs": [],
   "source": [
    "## Find the columns that are in test, but are not in train\n",
    "missing_columns_train = list(set(test_dummies) - set(train_dummies))\n",
    "\n",
    "## Find the columns that are in train, but are not in test\n",
    "missing_columns_test  = list(set(train_dummies) - set(test_dummies))\n",
    "\n",
    "print(f\"Columns missing from Train: {missing_columns_train}\")\n",
    "print(f\"Columns missing from Test: {missing_columns_test}\")"
   ]
  },
  {
   "cell_type": "code",
   "execution_count": null,
   "metadata": {
    "ExecuteTime": {
     "end_time": "2020-08-06T21:10:08.705026Z",
     "start_time": "2020-08-06T21:10:08.697042Z"
    }
   },
   "outputs": [],
   "source": [
    "## Add the missing columns to the test_dummies dataframe\n",
    "### Since no rows in the test dataset have values for these new columns, fill them with 0's\n",
    "for col in missing_columns_test:\n",
    "    test_dummies[col] = 0"
   ]
  },
  {
   "cell_type": "code",
   "execution_count": null,
   "metadata": {
    "ExecuteTime": {
     "end_time": "2020-08-06T21:10:25.319462Z",
     "start_time": "2020-08-06T21:10:25.312481Z"
    }
   },
   "outputs": [],
   "source": [
    "## Check to see that it worked.\n",
    "set(train_dummies) - set(test_dummies)"
   ]
  },
  {
   "cell_type": "code",
   "execution_count": null,
   "metadata": {
    "ExecuteTime": {
     "end_time": "2020-08-06T21:10:52.098228Z",
     "start_time": "2020-08-06T21:10:52.084245Z"
    }
   },
   "outputs": [],
   "source": [
    "## Take a look at all the dummy columns created\n",
    "train_dummies.columns"
   ]
  },
  {
   "cell_type": "markdown",
   "metadata": {},
   "source": [
    "Since we want to do `drop_first = True`, we'll manually drop the `Blmngtn` column from both dummy dataframes.\n",
    "\n",
    "- I chose `Blmngtn` to be my reference category simply because it was the first alphabetically.\n",
    "\n",
    "- However, this also means that when I interpret my coefficients later on, I'll want to keep in mind that a zero in every Neighborhood dummy column means the row had a house in `Blmngtn`. So the effect of the `Blmngtn` column is now captured in the intercept, and all of my other coefficients will be interpreted in comparison to a house in `Blmngtn`. (e.g. \"for a house in Old Town **compared to** a house in Bloomington\")."
   ]
  },
  {
   "cell_type": "code",
   "execution_count": null,
   "metadata": {
    "ExecuteTime": {
     "end_time": "2020-08-06T21:12:15.586274Z",
     "start_time": "2020-08-06T21:12:15.576289Z"
    }
   },
   "outputs": [],
   "source": [
    "## Drop one of the neighborhood columns from both train and test\n",
    "train_dummies.drop(columns = ['Blmngtn'], inplace = True)\n",
    "test_dummies.drop(columns = ['Blmngtn'], inplace = True)"
   ]
  },
  {
   "cell_type": "code",
   "execution_count": null,
   "metadata": {
    "ExecuteTime": {
     "end_time": "2020-08-06T21:15:35.850557Z",
     "start_time": "2020-08-06T21:15:35.800689Z"
    }
   },
   "outputs": [],
   "source": [
    "## Join the train and test dummy columns back with the original dataframes\n",
    "df_train_full = df_train.join(train_dummies)\n",
    "df_test_full  = df_test.join(test_dummies)\n",
    "\n",
    "## Make sure the columns in `df_test_full` are in the same order as the column in `df_train_full`\n",
    "df_test_full = df_test_full[df_train_full.drop(columns = ['SalePrice']).columns]"
   ]
  },
  {
   "cell_type": "code",
   "execution_count": null,
   "metadata": {
    "ExecuteTime": {
     "end_time": "2020-08-06T21:17:02.138836Z",
     "start_time": "2020-08-06T21:17:02.128863Z"
    }
   },
   "outputs": [],
   "source": [
    "df_train_full.columns"
   ]
  },
  {
   "cell_type": "code",
   "execution_count": null,
   "metadata": {
    "ExecuteTime": {
     "end_time": "2020-08-06T21:17:10.564975Z",
     "start_time": "2020-08-06T21:17:10.558991Z"
    }
   },
   "outputs": [],
   "source": [
    "df_test_full.columns"
   ]
  },
  {
   "cell_type": "markdown",
   "metadata": {},
   "source": [
    "## Preprocessing & Modeling"
   ]
  },
  {
   "cell_type": "code",
   "execution_count": null,
   "metadata": {
    "ExecuteTime": {
     "end_time": "2020-08-06T21:20:28.785041Z",
     "start_time": "2020-08-06T21:20:28.779055Z"
    }
   },
   "outputs": [],
   "source": [
    "## Define `features` list of features to include in your model\n",
    "features = ['Overall Qual', 'Lot Area']\n",
    "\n",
    "## We use the list `.extend()` method here instead of `.append()` in order to add\n",
    "## all of the elements of the list individually, instead of adding them all as one list.\n",
    "features.extend(train_dummies.columns)\n",
    "\n",
    "print(features)"
   ]
  },
  {
   "cell_type": "code",
   "execution_count": null,
   "metadata": {
    "ExecuteTime": {
     "end_time": "2020-08-06T21:21:10.510044Z",
     "start_time": "2020-08-06T21:21:10.502062Z"
    }
   },
   "outputs": [],
   "source": [
    "## Define X and y\n",
    "X = df_train_full[features]\n",
    "y = df_train_full['SalePrice']"
   ]
  },
  {
   "cell_type": "code",
   "execution_count": null,
   "metadata": {
    "ExecuteTime": {
     "end_time": "2020-08-06T21:21:58.639948Z",
     "start_time": "2020-08-06T21:21:58.626982Z"
    }
   },
   "outputs": [],
   "source": [
    "## Train Test Split\n",
    "X_train, X_test, y_train, y_test = train_test_split(X, y, random_state = 42)"
   ]
  },
  {
   "cell_type": "code",
   "execution_count": null,
   "metadata": {
    "ExecuteTime": {
     "end_time": "2020-08-06T21:22:17.348096Z",
     "start_time": "2020-08-06T21:22:17.343108Z"
    }
   },
   "outputs": [],
   "source": [
    "## Take a look at the shapes of X_train and X_test\n",
    "print(X_train.shape)\n",
    "\n",
    "print(X_test.shape)"
   ]
  },
  {
   "cell_type": "code",
   "execution_count": null,
   "metadata": {
    "ExecuteTime": {
     "end_time": "2020-08-06T21:25:55.703760Z",
     "start_time": "2020-08-06T21:25:55.697776Z"
    }
   },
   "outputs": [],
   "source": [
    "## Establish a baseline model for comparison\n",
    "### We can think of our baseline model as a naive model that always\n",
    "### predicts the mean of our target\n",
    "y_train_baseline = [y_train.mean()]*len(y_train)        ## multiplying a list by an integer dupicates the elements of that list that many times.\n",
    "y_test_baseline  = [y_train.mean()]*len(y_test)"
   ]
  },
  {
   "cell_type": "code",
   "execution_count": null,
   "metadata": {
    "ExecuteTime": {
     "end_time": "2020-08-06T21:27:42.708496Z",
     "start_time": "2020-08-06T21:27:42.698521Z"
    }
   },
   "outputs": [],
   "source": [
    "## Calculate the RMSE for the baseline train and test \"predictions\"\n",
    "print(f\"Baseline RMSE - Train: {mean_squared_error(y_train, y_train_baseline)**0.5}\")\n",
    "print(f\"Baseline RMSE - Test: {mean_squared_error(y_test, y_test_baseline)**0.5}\")"
   ]
  },
  {
   "cell_type": "markdown",
   "metadata": {},
   "source": [
    "### Linear Regression"
   ]
  },
  {
   "cell_type": "code",
   "execution_count": null,
   "metadata": {
    "ExecuteTime": {
     "end_time": "2020-08-06T21:29:03.973413Z",
     "start_time": "2020-08-06T21:29:03.950475Z"
    }
   },
   "outputs": [],
   "source": [
    "## Instantiate and fit a linear regression model to your training data\n",
    "lr = LinearRegression()\n",
    "lr.fit(X_train, y_train)"
   ]
  },
  {
   "cell_type": "code",
   "execution_count": null,
   "metadata": {
    "ExecuteTime": {
     "end_time": "2020-08-06T21:30:27.091608Z",
     "start_time": "2020-08-06T21:30:27.071661Z"
    }
   },
   "outputs": [],
   "source": [
    "## Evaluate model on both training and testing data using RMSE\n",
    "print(f\"Train RMSE: {mean_squared_error(y_train, lr.predict(X_train))**0.5}\")\n",
    "print(f\"Test RMSE: {mean_squared_error(y_test, lr.predict(X_test))**0.5}\")"
   ]
  },
  {
   "cell_type": "code",
   "execution_count": null,
   "metadata": {
    "ExecuteTime": {
     "end_time": "2020-08-06T21:31:17.850334Z",
     "start_time": "2020-08-06T21:31:17.842355Z"
    }
   },
   "outputs": [],
   "source": [
    "## Look at coefficients for each feature\n",
    "lr.coef_"
   ]
  },
  {
   "cell_type": "code",
   "execution_count": null,
   "metadata": {
    "ExecuteTime": {
     "end_time": "2020-08-06T21:33:07.962621Z",
     "start_time": "2020-08-06T21:33:07.955639Z"
    }
   },
   "outputs": [],
   "source": [
    "## Let's make that a little easier to read\n",
    "coef_df = pd.DataFrame({\n",
    "    'column': X.columns,\n",
    "    'coef'  : lr.coef_\n",
    "})"
   ]
  },
  {
   "cell_type": "code",
   "execution_count": null,
   "metadata": {},
   "outputs": [],
   "source": [
    "(abs(coef_df['coef']))"
   ]
  },
  {
   "cell_type": "code",
   "execution_count": null,
   "metadata": {
    "ExecuteTime": {
     "end_time": "2020-08-06T21:33:32.106152Z",
     "start_time": "2020-08-06T21:33:32.091192Z"
    }
   },
   "outputs": [],
   "source": [
    "coef_df.sort_values(by = 'coef', ascending = False).head()"
   ]
  },
  {
   "cell_type": "markdown",
   "metadata": {},
   "source": [
    "### Use your model to make predictions on the test dataset"
   ]
  },
  {
   "cell_type": "code",
   "execution_count": null,
   "metadata": {
    "ExecuteTime": {
     "end_time": "2020-08-06T21:35:01.713488Z",
     "start_time": "2020-08-06T21:35:01.706506Z"
    }
   },
   "outputs": [],
   "source": [
    "## First we subset `df_test_full` to just the features we included in our model\n",
    "X_kaggle = df_test_full.loc[:,features]"
   ]
  },
  {
   "cell_type": "code",
   "execution_count": null,
   "metadata": {
    "ExecuteTime": {
     "end_time": "2020-08-06T21:35:07.362724Z",
     "start_time": "2020-08-06T21:35:07.332802Z"
    }
   },
   "outputs": [],
   "source": [
    "X_kaggle.head()"
   ]
  },
  {
   "cell_type": "code",
   "execution_count": null,
   "metadata": {
    "ExecuteTime": {
     "end_time": "2020-08-06T21:36:14.786330Z",
     "start_time": "2020-08-06T21:36:14.770886Z"
    }
   },
   "outputs": [],
   "source": [
    "## Then we use the same model to predict on the test data, save predictions to a `SalePrice` column\n",
    "X_kaggle['SalePrice'] = lr.predict(X_kaggle)"
   ]
  },
  {
   "cell_type": "code",
   "execution_count": null,
   "metadata": {
    "ExecuteTime": {
     "end_time": "2020-08-06T21:36:23.010882Z",
     "start_time": "2020-08-06T21:36:22.973985Z"
    }
   },
   "outputs": [],
   "source": [
    "X_kaggle.head()"
   ]
  },
  {
   "cell_type": "code",
   "execution_count": null,
   "metadata": {
    "ExecuteTime": {
     "end_time": "2020-08-06T21:36:59.673644Z",
     "start_time": "2020-08-06T21:36:59.665665Z"
    }
   },
   "outputs": [],
   "source": [
    "## Set output to be a dataframe with only the `SalePrice` column\n",
    "output = X_kaggle[['SalePrice']]"
   ]
  },
  {
   "cell_type": "code",
   "execution_count": null,
   "metadata": {
    "ExecuteTime": {
     "end_time": "2020-08-06T21:37:05.901919Z",
     "start_time": "2020-08-06T21:37:05.892941Z"
    }
   },
   "outputs": [],
   "source": [
    "output.head()"
   ]
  },
  {
   "cell_type": "code",
   "execution_count": null,
   "metadata": {
    "ExecuteTime": {
     "end_time": "2020-08-06T21:38:38.344716Z",
     "start_time": "2020-08-06T21:38:38.330756Z"
    }
   },
   "outputs": [],
   "source": [
    "## Save output to a csv\n",
    "### (note: we're not using `index = False` here because we want our index `Id` to be a new column)\n",
    "output.to_csv('./datasets/first_submission.csv')"
   ]
  }
 ],
 "metadata": {
  "kernelspec": {
   "display_name": "Python 3",
   "language": "python",
   "name": "python3"
  },
  "language_info": {
   "codemirror_mode": {
    "name": "ipython",
    "version": 3
   },
   "file_extension": ".py",
   "mimetype": "text/x-python",
   "name": "python",
   "nbconvert_exporter": "python",
   "pygments_lexer": "ipython3",
   "version": "3.7.6"
  },
  "latex_envs": {
   "LaTeX_envs_menu_present": true,
   "autoclose": false,
   "autocomplete": true,
   "bibliofile": "biblio.bib",
   "cite_by": "apalike",
   "current_citInitial": 1,
   "eqLabelWithNumbers": true,
   "eqNumInitial": 1,
   "hotkeys": {
    "equation": "Ctrl-E",
    "itemize": "Ctrl-I"
   },
   "labels_anchors": false,
   "latex_user_defs": false,
   "report_style_numbering": false,
   "user_envs_cfg": false
  },
  "toc": {
   "base_numbering": 1,
   "nav_menu": {},
   "number_sections": true,
   "sideBar": true,
   "skip_h1_title": false,
   "title_cell": "Table of Contents",
   "title_sidebar": "Contents",
   "toc_cell": false,
   "toc_position": {},
   "toc_section_display": true,
   "toc_window_display": false
  }
 },
 "nbformat": 4,
 "nbformat_minor": 4
}
